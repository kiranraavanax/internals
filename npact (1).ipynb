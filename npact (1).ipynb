{
 "cells": [
  {
   "cell_type": "code",
   "execution_count": 8,
   "id": "e5e4485a-f9bf-45a7-b73e-9d411b1f4bd2",
   "metadata": {},
   "outputs": [
    {
     "name": "stdout",
     "output_type": "stream",
     "text": [
      "[[   1 6012]\n",
      " [   2 7079]\n",
      " [   3 6886]\n",
      " [   4 7230]\n",
      " [   5 4598]\n",
      " [   6 5564]\n",
      " [   7 6971]\n",
      " [   8 7763]\n",
      " [   9 8032]\n",
      " [  10 9569]]\n"
     ]
    }
   ],
   "source": [
    "import numpy as np\n",
    "\n",
    "# Day numbers and steps walked\n",
    "day_number = np.arange(1, 11)\n",
    "steps_walked = [6012, 7079, 6886, 7230, 4598, 5564, 6971, 7763, 8032, 9569]\n",
    "\n",
    "# Create a 2D array where each row is [day_number, steps_walked]\n",
    "arr = np.array([day_number, steps_walked]).T\n",
    "\n",
    "print(arr)"
   ]
  },
  {
   "cell_type": "code",
   "execution_count": null,
   "id": "b40a35f9-1660-434a-b7f2-126c73a06b13",
   "metadata": {},
   "outputs": [],
   "source": [
    "Represent the above data in a 10x2 array. In each row,\n",
    "the first element should contain day number and\n",
    "second element should contain steps walked.\n"
   ]
  },
  {
   "cell_type": "code",
   "execution_count": 9,
   "id": "c45e2453-e013-41fe-8bee-a7f121aabb8e",
   "metadata": {},
   "outputs": [
    {
     "name": "stdout",
     "output_type": "stream",
     "text": [
      "[[   1 6012]\n",
      " [   2 7079]\n",
      " [   3 6886]\n",
      " [   4 7230]\n",
      " [   5 4598]\n",
      " [   6 5564]\n",
      " [   7 6971]\n",
      " [   8 7763]\n",
      " [   9 8032]\n",
      " [  10 9569]]\n",
      "[[    1  8012]\n",
      " [    2  9079]\n",
      " [    3  8886]\n",
      " [    4  9230]\n",
      " [    5  6598]\n",
      " [    6  7564]\n",
      " [    7  8971]\n",
      " [    8  9763]\n",
      " [    9 10032]\n",
      " [   10 11569]]\n"
     ]
    }
   ],
   "source": [
    "print(arr)\n",
    "# Perform the operation\n",
    "new_arr = arr[:, 1] + 2000\n",
    "arr[:, 1] = new_arr\n",
    "\n",
    "print(arr)"
   ]
  },
  {
   "cell_type": "code",
   "execution_count": 10,
   "id": "8a0ab1d5-3f21-4adc-b3f5-1a5a86066b08",
   "metadata": {},
   "outputs": [
    {
     "name": "stdout",
     "output_type": "stream",
     "text": [
      "[[    1 10012]\n",
      " [    2 11079]\n",
      " [    3 10886]\n",
      " [    4 11230]\n",
      " [    5  8598]\n",
      " [    6  9564]\n",
      " [    7 10971]\n",
      " [    8 11763]\n",
      " [    9 12032]\n",
      " [   10 13569]]\n"
     ]
    }
   ],
   "source": [
    "new_arr= arr[:,1] + 2000\n",
    "arr[:,1]=new_arr\n",
    "print(arr)"
   ]
  },
  {
   "cell_type": "code",
   "execution_count": 11,
   "id": "8ba76498-132d-4a85-bc08-63ff474dad39",
   "metadata": {},
   "outputs": [
    {
     "name": "stdout",
     "output_type": "stream",
     "text": [
      "[[    1 10012]\n",
      " [    2 11079]\n",
      " [    3 10886]\n",
      " [    4 11230]\n",
      " [    6  9564]\n",
      " [    7 10971]\n",
      " [    8 11763]\n",
      " [    9 12032]\n",
      " [   10 13569]]\n"
     ]
    }
   ],
   "source": [
    "matched = arr[:,1]>9000\n",
    "matched\n",
    "new_arr = arr[matched]\n",
    "print(new_arr)"
   ]
  },
  {
   "cell_type": "code",
   "execution_count": 12,
   "id": "bf8023e1-389a-4ffb-8293-c278d02f9906",
   "metadata": {},
   "outputs": [
    {
     "name": "stdout",
     "output_type": "stream",
     "text": [
      "Sorted 2D Numpy Array\n",
      "[[    5  8598]\n",
      " [    6  9564]\n",
      " [    1 10012]\n",
      " [    3 10886]\n",
      " [    7 10971]\n",
      " [    2 11079]\n",
      " [    4 11230]\n",
      " [    8 11763]\n",
      " [    9 12032]\n",
      " [   10 13569]]\n"
     ]
    }
   ],
   "source": [
    "sortedArr = arr[arr[:,1].argsort()]\n",
    "print('Sorted 2D Numpy Array')\n",
    "print(sortedArr)"
   ]
  },
  {
   "cell_type": "code",
   "execution_count": null,
   "id": "db8d3c66-93fe-4fdc-ab26-81bdd3f88bf8",
   "metadata": {},
   "outputs": [],
   "source": []
  }
 ],
 "metadata": {
  "kernelspec": {
   "display_name": "Python 3 (ipykernel)",
   "language": "python",
   "name": "python3"
  },
  "language_info": {
   "codemirror_mode": {
    "name": "ipython",
    "version": 3
   },
   "file_extension": ".py",
   "mimetype": "text/x-python",
   "name": "python",
   "nbconvert_exporter": "python",
   "pygments_lexer": "ipython3",
   "version": "3.12.4"
  }
 },
 "nbformat": 4,
 "nbformat_minor": 5
}
